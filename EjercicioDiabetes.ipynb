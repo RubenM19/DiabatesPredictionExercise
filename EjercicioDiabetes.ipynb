{
 "cells": [
  {
   "cell_type": "markdown",
   "id": "37573111-3f3f-4dcf-b5a6-2919e1ac143a",
   "metadata": {},
   "source": [
    "### Alumno: Rubén Alberto Mondragón Zúñiga"
   ]
  },
  {
   "cell_type": "code",
   "execution_count": 1,
   "id": "852633fa-5123-437c-9d0d-b5c7f021227c",
   "metadata": {},
   "outputs": [
    {
     "name": "stdout",
     "output_type": "stream",
     "text": [
      "Defaulting to user installation because normal site-packages is not writeable\n",
      "Requirement already satisfied: torch in c:\\users\\josefina\\appdata\\roaming\\python\\python311\\site-packages (2.5.1)\n",
      "Requirement already satisfied: filelock in c:\\programdata\\anaconda3\\lib\\site-packages (from torch) (3.13.1)\n",
      "Requirement already satisfied: typing-extensions>=4.8.0 in c:\\programdata\\anaconda3\\lib\\site-packages (from torch) (4.9.0)\n",
      "Requirement already satisfied: networkx in c:\\programdata\\anaconda3\\lib\\site-packages (from torch) (3.1)\n",
      "Requirement already satisfied: jinja2 in c:\\programdata\\anaconda3\\lib\\site-packages (from torch) (3.1.3)\n",
      "Requirement already satisfied: fsspec in c:\\programdata\\anaconda3\\lib\\site-packages (from torch) (2023.10.0)\n",
      "Requirement already satisfied: sympy==1.13.1 in c:\\users\\josefina\\appdata\\roaming\\python\\python311\\site-packages (from torch) (1.13.1)\n",
      "Requirement already satisfied: mpmath<1.4,>=1.1.0 in c:\\programdata\\anaconda3\\lib\\site-packages (from sympy==1.13.1->torch) (1.3.0)\n",
      "Requirement already satisfied: MarkupSafe>=2.0 in c:\\programdata\\anaconda3\\lib\\site-packages (from jinja2->torch) (2.1.3)\n"
     ]
    },
    {
     "name": "stderr",
     "output_type": "stream",
     "text": [
      "DEPRECATION: Loading egg at c:\\programdata\\anaconda3\\lib\\site-packages\\vboxapi-1.0-py3.11.egg is deprecated. pip 24.3 will enforce this behaviour change. A possible replacement is to use pip for package installation.. Discussion can be found at https://github.com/pypa/pip/issues/12330\n"
     ]
    }
   ],
   "source": [
    "!pip install torch"
   ]
  },
  {
   "cell_type": "code",
   "execution_count": 2,
   "id": "57596e4c-e489-400d-8238-810ab77e99a0",
   "metadata": {},
   "outputs": [],
   "source": [
    "import pandas as pd\n",
    "import numpy as np\n",
    "import torch\n",
    "import torch.nn as nn\n",
    "from torch.utils.data import Dataset, DataLoader\n",
    "from sklearn.model_selection import train_test_split\n",
    "from sklearn.preprocessing import StandardScaler\n",
    "import matplotlib.pyplot as plt\n",
    "import seaborn as sns"
   ]
  },
  {
   "cell_type": "code",
   "execution_count": 44,
   "id": "115f12dd-4828-4e79-8f86-cba4498c9fd0",
   "metadata": {},
   "outputs": [],
   "source": [
    "# Configuración de semilla aleatoria para reproducibilidad\n",
    "torch.manual_seed(42)\n",
    "np.random.seed(42)"
   ]
  },
  {
   "cell_type": "code",
   "execution_count": null,
   "id": "a7b543c2-d674-41df-ae20-6c9db54bddc7",
   "metadata": {},
   "outputs": [],
   "source": [
    "# Cargamos el dataset\n",
    "columns = ['Pregnancies', 'Glucose', 'BloodPressure', 'SkinThickness', \n",
    "          'Insulin', 'BMI', 'DiabetesPedigreeFunction', 'Age', 'Outcome']\n",
    "data = pd.read_csv('pima-indians-diabetes.csv', header=None, names=columns)"
   ]
  },
  {
   "cell_type": "code",
   "execution_count": 46,
   "id": "260e0cf3-2aee-43dd-9815-d65a54b133c5",
   "metadata": {},
   "outputs": [
    {
     "name": "stdout",
     "output_type": "stream",
     "text": [
      "Información del dataset:\n",
      "<class 'pandas.core.frame.DataFrame'>\n",
      "RangeIndex: 768 entries, 0 to 767\n",
      "Data columns (total 9 columns):\n",
      " #   Column                    Non-Null Count  Dtype  \n",
      "---  ------                    --------------  -----  \n",
      " 0   Pregnancies               768 non-null    int64  \n",
      " 1   Glucose                   768 non-null    int64  \n",
      " 2   BloodPressure             768 non-null    int64  \n",
      " 3   SkinThickness             768 non-null    int64  \n",
      " 4   Insulin                   768 non-null    int64  \n",
      " 5   BMI                       768 non-null    float64\n",
      " 6   DiabetesPedigreeFunction  768 non-null    float64\n",
      " 7   Age                       768 non-null    int64  \n",
      " 8   Outcome                   768 non-null    int64  \n",
      "dtypes: float64(2), int64(7)\n",
      "memory usage: 54.1 KB\n",
      "None\n",
      "\n",
      "Estadísticas descriptivas:\n",
      "       Pregnancies     Glucose  BloodPressure  SkinThickness     Insulin  \\\n",
      "count   768.000000  768.000000     768.000000     768.000000  768.000000   \n",
      "mean      3.845052  120.894531      69.105469      20.536458   79.799479   \n",
      "std       3.369578   31.972618      19.355807      15.952218  115.244002   \n",
      "min       0.000000    0.000000       0.000000       0.000000    0.000000   \n",
      "25%       1.000000   99.000000      62.000000       0.000000    0.000000   \n",
      "50%       3.000000  117.000000      72.000000      23.000000   30.500000   \n",
      "75%       6.000000  140.250000      80.000000      32.000000  127.250000   \n",
      "max      17.000000  199.000000     122.000000      99.000000  846.000000   \n",
      "\n",
      "              BMI  DiabetesPedigreeFunction         Age     Outcome  \n",
      "count  768.000000                768.000000  768.000000  768.000000  \n",
      "mean    31.992578                  0.471876   33.240885    0.348958  \n",
      "std      7.884160                  0.331329   11.760232    0.476951  \n",
      "min      0.000000                  0.078000   21.000000    0.000000  \n",
      "25%     27.300000                  0.243750   24.000000    0.000000  \n",
      "50%     32.000000                  0.372500   29.000000    0.000000  \n",
      "75%     36.600000                  0.626250   41.000000    1.000000  \n",
      "max     67.100000                  2.420000   81.000000    1.000000  \n"
     ]
    }
   ],
   "source": [
    "# Análisis exploratorio\n",
    "print(\"Información del dataset:\")\n",
    "print(data.info())\n",
    "print(\"\\nEstadísticas descriptivas:\")\n",
    "print(data.describe())"
   ]
  },
  {
   "cell_type": "code",
   "execution_count": 47,
   "id": "3b3376d5-571a-4eaa-ab0f-d9b42dba8e2e",
   "metadata": {},
   "outputs": [
    {
     "name": "stdout",
     "output_type": "stream",
     "text": [
      "\n",
      "Valores 0 en Glucose: 5\n",
      "\n",
      "Valores 0 en BloodPressure: 35\n",
      "\n",
      "Valores 0 en SkinThickness: 227\n",
      "\n",
      "Valores 0 en Insulin: 374\n",
      "\n",
      "Valores 0 en BMI: 11\n"
     ]
    }
   ],
   "source": [
    "# Verificamos valores nulos (considerando 0 como valores faltantes en ciertas columnas)\n",
    "zero_columns = ['Glucose', 'BloodPressure', 'SkinThickness', 'Insulin', 'BMI']\n",
    "for column in zero_columns:\n",
    "    zero_count = len(data[data[column] == 0])\n",
    "    print(f\"\\nValores 0 en {column}: {zero_count}\")"
   ]
  },
  {
   "cell_type": "code",
   "execution_count": 48,
   "id": "44432e9b-3555-4b6c-aed4-96afcca5dbbb",
   "metadata": {},
   "outputs": [
    {
     "data": {
      "image/png": "[encoded data removed]",
      "text/plain": [
       "<Figure size 800x600 with 1 Axes>"
      ]
     },
     "metadata": {},
     "output_type": "display_data"
    }
   ],
   "source": [
    "# Visualización de la distribución de la variable objetivo\n",
    "plt.figure(figsize=(8, 6))\n",
    "data['Outcome'].value_counts().plot(kind='bar')\n",
    "plt.title('Distribución de Diabetes')\n",
    "plt.xlabel('Diabetes')\n",
    "plt.ylabel('Cantidad')\n",
    "plt.show()"
   ]
  },
  {
   "cell_type": "code",
   "execution_count": 49,
   "id": "8aadf0c9-86cb-496f-bb75-91513c2a80bd",
   "metadata": {},
   "outputs": [
    {
     "data": {
      "image/png": "[encoded data removed]",
      "text/plain": [
       "<Figure size 1000x800 with 2 Axes>"
      ]
     },
     "metadata": {},
     "output_type": "display_data"
    }
   ],
   "source": [
    "# Matriz de correlación\n",
    "plt.figure(figsize=(10, 8))\n",
    "sns.heatmap(data.corr(), annot=True, cmap='coolwarm')\n",
    "plt.title('Matriz de Correlación')\n",
    "plt.show()"
   ]
  },
  {
   "cell_type": "code",
   "execution_count": 65,
   "id": "4bea44be-7087-4ed7-9ac5-1358861a6819",
   "metadata": {},
   "outputs": [],
   "source": [
    "# Mejora en el manejo de valores atípicos y missing values\n",
    "def handle_outliers(df, column):\n",
    "    Q1 = df[column].quantile(0.25)\n",
    "    Q3 = df[column].quantile(0.75)\n",
    "    IQR = Q3 - Q1\n",
    "    lower_bound = Q1 - 1.5 * IQR\n",
    "    upper_bound = Q3 + 1.5 * IQR\n",
    "    df[column] = np.where(df[column] > upper_bound, upper_bound, df[column])\n",
    "    df[column] = np.where(df[column] < lower_bound, lower_bound, df[column])\n",
    "    return df"
   ]
  },
  {
   "cell_type": "code",
   "execution_count": 66,
   "id": "b5183b42-56f8-4ecf-8722-f117a8f375ec",
   "metadata": {},
   "outputs": [],
   "source": [
    "# 2. PREPROCESAMIENTO DE DATOS\n",
    "#----------------------------\n",
    "# Tratamiento mejorado de valores faltantes y atípicos\n",
    "zero_columns = ['Glucose', 'BloodPressure', 'SkinThickness', 'Insulin', 'BMI']\n",
    "for column in zero_columns:\n",
    "    # Reemplazar zeros con NaN\n",
    "    data[column] = data[column].replace(0, np.nan)\n",
    "    # Imputar con la mediana\n",
    "    data[column].fillna(data[column].median(), inplace=True)\n",
    "    # Manejar outliers\n",
    "    data = handle_outliers(data, column)\n"
   ]
  },
  {
   "cell_type": "code",
   "execution_count": 67,
   "id": "45e9c071-5703-4a66-b24b-fab8725f6d2b",
   "metadata": {},
   "outputs": [],
   "source": [
    "# Separamos features y target\n",
    "X = data.drop('Outcome', axis=1)\n",
    "y = data['Outcome']"
   ]
  },
  {
   "cell_type": "code",
   "execution_count": 68,
   "id": "6db8badb-4762-4ad8-92a4-f9cfaf2ee544",
   "metadata": {},
   "outputs": [],
   "source": [
    "# Dividimos en conjunto de entrenamiento y prueba\n",
    "X_train, X_test, y_train, y_test = train_test_split(X, y, test_size=0.2, random_state=42)"
   ]
  },
  {
   "cell_type": "code",
   "execution_count": 69,
   "id": "12787135-f26a-422b-a124-f8f6bea15cad",
   "metadata": {},
   "outputs": [],
   "source": [
    "# Escalamos los datos\n",
    "scaler = StandardScaler()\n",
    "X_train_scaled = scaler.fit_transform(X_train)\n",
    "X_test_scaled = scaler.transform(X_test)"
   ]
  },
  {
   "cell_type": "code",
   "execution_count": 70,
   "id": "9d812f46-f4cc-4d58-aa99-3f409f49404c",
   "metadata": {},
   "outputs": [],
   "source": [
    "# 3. DEFINICIÓN DEL DATASET Y DATALOADER\n",
    "#-------------------------------------\n",
    "\n",
    "class DiabetesDataset(Dataset):\n",
    "    def __init__(self, X, y):\n",
    "        self.X = torch.FloatTensor(X)\n",
    "        self.y = torch.FloatTensor(y.values)\n",
    "        \n",
    "    def __len__(self):\n",
    "        return len(self.X)\n",
    "    \n",
    "    def __getitem__(self, idx):\n",
    "        return self.X[idx], self.y[idx]"
   ]
  },
  {
   "cell_type": "code",
   "execution_count": 71,
   "id": "5c32788a-9f9b-480c-a838-28a5daeb7c78",
   "metadata": {},
   "outputs": [],
   "source": [
    "# Creamos los datasets\n",
    "train_dataset = DiabetesDataset(X_train_scaled, y_train)\n",
    "test_dataset = DiabetesDataset(X_test_scaled, y_test)"
   ]
  },
  {
   "cell_type": "code",
   "execution_count": 72,
   "id": "b26948be-fd5a-4687-b3b1-be8fc53959ac",
   "metadata": {},
   "outputs": [],
   "source": [
    "# Creamos los dataloaders\n",
    "train_loader = DataLoader(train_dataset, batch_size=32, shuffle=True)\n",
    "test_loader = DataLoader(test_dataset, batch_size=32, shuffle=False)"
   ]
  },
  {
   "cell_type": "code",
   "execution_count": 73,
   "id": "c7576005-9ebf-4335-912b-e333756b02af",
   "metadata": {},
   "outputs": [],
   "source": [
    "# 4. DEFINICIÓN DEL MODELO\n",
    "#------------------------\n",
    "\n",
    "class DiabetesModel(nn.Module):\n",
    "    def __init__(self):\n",
    "        super(DiabetesModel, self).__init__()\n",
    "        self.layer1 = nn.Linear(8, 16)\n",
    "        self.layer2 = nn.Linear(16, 8)\n",
    "        self.layer3 = nn.Linear(8, 1)\n",
    "        self.relu = nn.ReLU()\n",
    "        self.dropout = nn.Dropout(0.3)\n",
    "        \n",
    "    def forward(self, x):\n",
    "        x = self.relu(self.layer1(x))\n",
    "        x = self.dropout(x)\n",
    "        x = self.relu(self.layer2(x))\n",
    "        x = self.dropout(x)\n",
    "        x = torch.sigmoid(self.layer3(x))\n",
    "        return x\n"
   ]
  },
  {
   "cell_type": "code",
   "execution_count": 74,
   "id": "4008d7bb-94bc-4e76-853e-98cbc23483c5",
   "metadata": {},
   "outputs": [],
   "source": [
    "# 5. ENTRENAMIENTO DEL MODELO\n",
    "#---------------------------\n",
    "\n",
    "# Inicializamos el modelo\n",
    "model = DiabetesModel()\n",
    "criterion = nn.BCELoss()\n",
    "optimizer = torch.optim.Adam(model.parameters(), lr=0.001)"
   ]
  },
  {
   "cell_type": "code",
   "execution_count": 75,
   "id": "5b72b7dd-ad83-4063-b539-24c5059f2f15",
   "metadata": {},
   "outputs": [],
   "source": [
    "# Función de entrenamiento\n",
    "def train_model(model, train_loader, criterion, optimizer, epochs):\n",
    "    model.train()\n",
    "    for epoch in range(epochs):\n",
    "        running_loss = 0.0\n",
    "        for inputs, labels in train_loader:\n",
    "            optimizer.zero_grad()\n",
    "            outputs = model(inputs)\n",
    "            loss = criterion(outputs.squeeze(), labels)\n",
    "            loss.backward()\n",
    "            optimizer.step()\n",
    "            running_loss += loss.item()\n",
    "        \n",
    "        if (epoch + 1) % 10 == 0:\n",
    "            print(f'Época [{epoch+1}/500], Loss: {running_loss/len(train_loader):.4f}')"
   ]
  },
  {
   "cell_type": "code",
   "execution_count": 76,
   "id": "f5214b6c-ca30-4d78-8c84-191815506bde",
   "metadata": {},
   "outputs": [
    {
     "name": "stdout",
     "output_type": "stream",
     "text": [
      "Iniciando entrenamiento...\n",
      "Época [10/500], Loss: 0.5323\n",
      "Época [20/500], Loss: 0.4940\n",
      "Época [30/500], Loss: 0.4570\n",
      "Época [40/500], Loss: 0.4775\n",
      "Época [50/500], Loss: 0.4737\n",
      "Época [60/500], Loss: 0.4523\n",
      "Época [70/500], Loss: 0.4466\n",
      "Época [80/500], Loss: 0.4530\n",
      "Época [90/500], Loss: 0.4702\n",
      "Época [100/500], Loss: 0.4565\n",
      "Época [110/500], Loss: 0.4782\n",
      "Época [120/500], Loss: 0.4521\n",
      "Época [130/500], Loss: 0.4394\n",
      "Época [140/500], Loss: 0.4483\n",
      "Época [150/500], Loss: 0.4131\n",
      "Época [160/500], Loss: 0.4430\n",
      "Época [170/500], Loss: 0.4352\n",
      "Época [180/500], Loss: 0.4190\n",
      "Época [190/500], Loss: 0.4251\n",
      "Época [200/500], Loss: 0.4308\n",
      "Época [210/500], Loss: 0.4357\n",
      "Época [220/500], Loss: 0.4378\n",
      "Época [230/500], Loss: 0.4220\n",
      "Época [240/500], Loss: 0.4778\n",
      "Época [250/500], Loss: 0.4277\n",
      "Época [260/500], Loss: 0.4188\n",
      "Época [270/500], Loss: 0.4524\n",
      "Época [280/500], Loss: 0.4510\n",
      "Época [290/500], Loss: 0.4177\n",
      "Época [300/500], Loss: 0.4296\n",
      "Época [310/500], Loss: 0.4102\n",
      "Época [320/500], Loss: 0.4154\n",
      "Época [330/500], Loss: 0.4334\n",
      "Época [340/500], Loss: 0.4035\n",
      "Época [350/500], Loss: 0.4372\n",
      "Época [360/500], Loss: 0.4205\n",
      "Época [370/500], Loss: 0.4017\n",
      "Época [380/500], Loss: 0.3888\n",
      "Época [390/500], Loss: 0.4264\n",
      "Época [400/500], Loss: 0.4320\n",
      "Época [410/500], Loss: 0.3760\n",
      "Época [420/500], Loss: 0.3983\n",
      "Época [430/500], Loss: 0.3972\n",
      "Época [440/500], Loss: 0.4075\n",
      "Época [450/500], Loss: 0.3966\n",
      "Época [460/500], Loss: 0.3819\n",
      "Época [470/500], Loss: 0.3968\n",
      "Época [480/500], Loss: 0.4159\n",
      "Época [490/500], Loss: 0.3861\n",
      "Época [500/500], Loss: 0.4052\n"
     ]
    }
   ],
   "source": [
    "# Entrenamos el modelo\n",
    "print(\"Iniciando entrenamiento...\")\n",
    "train_model(model, train_loader, criterion, optimizer, epochs=500)"
   ]
  },
  {
   "cell_type": "code",
   "execution_count": 77,
   "id": "5e51757f-3956-4ad0-ac5a-c3f5afb717f2",
   "metadata": {},
   "outputs": [],
   "source": [
    "# 6. EVALUACIÓN DEL MODELO\n",
    "#------------------------\n",
    "\n",
    "# Función para hacer predicciones\n",
    "def make_predictions(model, loader):\n",
    "    model.eval()\n",
    "    predictions = []\n",
    "    actual = []\n",
    "    with torch.no_grad():\n",
    "        for inputs, labels in loader:\n",
    "            outputs = model(inputs)\n",
    "            predicted = (outputs.squeeze() >= 0.5).float()\n",
    "            predictions.extend(predicted.numpy())\n",
    "            actual.extend(labels.numpy())\n",
    "    return np.array(predictions), np.array(actual)"
   ]
  },
  {
   "cell_type": "code",
   "execution_count": 84,
   "id": "404f62af-d82f-46a5-8d20-1574cb7a197d",
   "metadata": {},
   "outputs": [],
   "source": [
    "# Hacemos predicciones en los primeros 10 casos de prueba\n",
    "model.eval()\n",
    "with torch.no_grad():\n",
    "    test_inputs = torch.FloatTensor(X_test_scaled[:10])\n",
    "    test_predictions = model(test_inputs).squeeze().numpy()\n",
    "    binary_predictions = (test_predictions >= 0.5).astype(int)"
   ]
  },
  {
   "cell_type": "code",
   "execution_count": 85,
   "id": "2cf1e290-b762-43eb-b69c-b9175cd5ccf7",
   "metadata": {},
   "outputs": [
    {
     "name": "stdout",
     "output_type": "stream",
     "text": [
      "\n",
      "Resultados para los primeros 10 casos de prueba:\n",
      "Real | Predicho | Error\n",
      "------------------------------\n",
      "   0 |        0 |     0\n",
      "   0 |        0 |     0\n",
      "   0 |        0 |     0\n",
      "   0 |        0 |     0\n",
      "   0 |        1 |     1\n",
      "   0 |        1 |     1\n",
      "   0 |        0 |     0\n",
      "   0 |        1 |     1\n",
      "   0 |        1 |     1\n",
      "   0 |        1 |     1\n"
     ]
    }
   ],
   "source": [
    "# Mostramos los resultados para los primeros 10 casos\n",
    "print(\"\\nResultados para los primeros 10 casos de prueba:\")\n",
    "print(\"Real | Predicho | Error\")\n",
    "print(\"-\" * 30)\n",
    "for i in range(10):\n",
    "    real = y_test.iloc[i]\n",
    "    pred = binary_predictions[i]\n",
    "    error = abs(real - pred)\n",
    "    print(f\"{real:4d} | {pred:8d} | {error:5d}\")"
   ]
  },
  {
   "cell_type": "code",
   "execution_count": 80,
   "id": "70183ce0-0daa-4c95-b78e-f140ab5121db",
   "metadata": {},
   "outputs": [
    {
     "name": "stdout",
     "output_type": "stream",
     "text": [
      "\n",
      "Precisión del modelo: 0.7467532467532467\n",
      "\n",
      "Reporte de clasificación:\n",
      "              precision    recall  f1-score   support\n",
      "\n",
      "         0.0       0.81      0.80      0.80        99\n",
      "         1.0       0.64      0.65      0.65        55\n",
      "\n",
      "    accuracy                           0.75       154\n",
      "   macro avg       0.72      0.73      0.73       154\n",
      "weighted avg       0.75      0.75      0.75       154\n",
      "\n"
     ]
    }
   ],
   "source": [
    "# 7. MÉTRICAS DE EVALUACIÓN\n",
    "#-------------------------\n",
    "\n",
    "from sklearn.metrics import accuracy_score, classification_report\n",
    "\n",
    "# Calculamos y mostramos las métricas\n",
    "y_pred, y_true = make_predictions(model, test_loader)\n",
    "accuracy = accuracy_score(y_true, y_pred)\n",
    "print(\"\\nPrecisión del modelo:\", accuracy)\n",
    "print(\"\\nReporte de clasificación:\")\n",
    "print(classification_report(y_true, y_pred))"
   ]
  },
  {
   "cell_type": "code",
   "execution_count": null,
   "id": "d065e302-02c7-494d-8b76-525f0ceda7ed",
   "metadata": {},
   "outputs": [],
   "source": []
  }
 ],
 "metadata": {
  "kernelspec": {
   "display_name": "Python 3 (ipykernel)",
   "language": "python",
   "name": "python3"
  },
  "language_info": {
   "codemirror_mode": {
    "name": "ipython",
    "version": 3
   },
   "file_extension": ".py",
   "mimetype": "text/x-python",
   "name": "python",
   "nbconvert_exporter": "python",
   "pygments_lexer": "ipython3",
   "version": "3.11.7"
  }
 },
 "nbformat": 4,
 "nbformat_minor": 5
}
